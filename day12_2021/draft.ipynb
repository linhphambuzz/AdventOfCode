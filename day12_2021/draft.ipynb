{
 "cells": [
  {
   "cell_type": "code",
   "execution_count": 7,
   "metadata": {},
   "outputs": [
    {
     "name": "stdout",
     "output_type": "stream",
     "text": [
      "{'start': 1, 'a': 3, 'b': 4}\n",
      "False\n"
     ]
    }
   ],
   "source": [
    "twice_cnt={node:0 for node in ['start','a','b']}\n",
    "twice_cnt['start']+=1\n",
    "twice_cnt['a']+=3\n",
    "twice_cnt['b']+=4\n",
    "print(twice_cnt)\n",
    "#list(d.values()).count(2)\n",
    "twice_detected=lambda _=None: list(twice_cnt.values()).count(2)>0 \n",
    "print(twice_detected())\n"
   ]
  },
  {
   "cell_type": "code",
   "execution_count": 1,
   "metadata": {},
   "outputs": [],
   "source": [
    "total=len('?#?#?#?#?#?#?#?')\n",
    "print(total)"
   ]
  }
 ],
 "metadata": {
  "kernelspec": {
   "display_name": "Python 3",
   "language": "python",
   "name": "python3"
  },
  "language_info": {
   "codemirror_mode": {
    "name": "ipython",
    "version": 3
   },
   "file_extension": ".py",
   "mimetype": "text/x-python",
   "name": "python",
   "nbconvert_exporter": "python",
   "pygments_lexer": "ipython3",
   "version": "3.10.12"
  },
  "orig_nbformat": 4
 },
 "nbformat": 4,
 "nbformat_minor": 2
}
